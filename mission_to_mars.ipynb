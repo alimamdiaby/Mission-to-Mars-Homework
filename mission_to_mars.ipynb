{
 "cells": [
  {
   "cell_type": "code",
   "execution_count": 11,
   "metadata": {},
   "outputs": [],
   "source": [
    "import requests\n",
    "from bs4 import BeautifulSoup\n",
    "from splinter import Browser"
   ]
  },
  {
   "cell_type": "code",
   "execution_count": 12,
   "metadata": {},
   "outputs": [],
   "source": [
    "url= 'https://mars.nasa.gov/news/?page=0&per_page=40&order=publish_date+desc%2Ccreated_at+desc&search=&category=19%2C165%2C184%2C204&blank_scope=Latest'\n",
    "nasa = requests.get(url).text\n",
    "soup=BeautifulSoup(nasa, 'lxml')"
   ]
  },
  {
   "cell_type": "code",
   "execution_count": 13,
   "metadata": {},
   "outputs": [],
   "source": [
    "# Assign the text to variables that you can reference later.\n",
    "headline = []\n",
    "preview = []\n",
    "\n",
    "for h in soup.findAll(\"div\", class_=\"content_title\"):\n",
    "    headline.append(h.a.text.strip())\n",
    "    \n",
    "for p in soup.findAll(\"div\", class_=\"rollower_description_inner\"):\n",
    "    preview.append(p.text.strip())"
   ]
  },
  {
   "cell_type": "code",
   "execution_count": 14,
   "metadata": {},
   "outputs": [],
   "source": [
    "# Use splinter to navaigate the site and find the image URL for the current featured Mars Image and assign the URL string\n",
    "browser = Browser('chrome', headless=False)\n",
    "browser.visit('https://www.jpl.nasa.gov/spaceimages/?search=&category=Mars')"
   ]
  },
  {
   "cell_type": "code",
   "execution_count": 15,
   "metadata": {},
   "outputs": [
    {
     "data": {
      "text/plain": [
       "'https://www.jpg.nasa.gov/spaceimages/images/wallpaper/PIA17440-1920x1200.jpg'"
      ]
     },
     "execution_count": 15,
     "metadata": {},
     "output_type": "execute_result"
    }
   ],
   "source": [
    "#make sure to find the image UR to the full size.JPG image\n",
    "img =browser.find_by_css('article')['style']\n",
    "full_size_img = \"https://www.jpg.nasa.gov/\" + img[24:-3]\n",
    "#make sure to save a complet URL \n",
    "full_size_img"
   ]
  },
  {
   "cell_type": "code",
   "execution_count": 17,
   "metadata": {},
   "outputs": [],
   "source": [
    "#Visit the Mars Weather twitter account here and scrape the latest Mars weather tweet from the page\n",
    "mars_weather_t = []\n",
    "weather_url = \"https://twitter.com/marswxreport?lang=en\"\n",
    "w_request = requests.get(weather_url).text\n",
    "twts = BeautifulSoup(w_request, 'lxml')\n",
    "#save the tweet \n",
    "#Use pandas\n",
    "for x in twts.findAll( 'p', class_= \"TweetTextSize TweetTextSize--normal js-tweet-text tweet-text\"):\n",
    "   mars_weather_t.append(x.text)"
   ]
  },
  {
   "cell_type": "code",
   "execution_count": 18,
   "metadata": {},
   "outputs": [
    {
     "data": {
      "text/plain": [
       "['InSight sol 88 (2019-02-25) low -95.2ºC (-139.4ºF) high -17.8ºC (0.0ºF)\\nwinds from the SW at 5.2 m/s (11.6 mph) gusting to 19.8 m/s (44.3 mph)\\npressure at 7.20 hPapic.twitter.com/1msjBvhiu7',\n",
       " 'InSight sol 87 (2019-02-23) low -94.2ºC (-137.5ºF) high -16.0ºC (3.3ºF)\\nwinds from the WNW at 4.4 m/s (9.7 mph) gusting to 11.7 m/s (26.1 mph)\\npressure at 7.20 hPa',\n",
       " 'InSight sol 86 (2019-02-22) low -95.3ºC (-139.5ºF) high -13.7ºC (7.3ºF)\\nwinds from the SW at 4.1 m/s (9.2 mph) gusting to 13.2 m/s (29.5 mph)\\npressure at 7.20 hPa',\n",
       " 'InSight sol 85 (2019-02-21) low -95.7ºC (-140.3ºF) high -16.0ºC (3.1ºF)\\nwinds from the WNW at 4.4 m/s (9.9 mph) gusting to 10.5 m/s (23.5 mph)\\npressure at 7.20 hPa',\n",
       " 'Curiosity is again operating normally following a boot problem first experienced last Friday. Look for more Gale Crater weather conditions soon.\\nhttps://www.jpl.nasa.gov/news/news.php?feature=7339\\xa0…pic.twitter.com/gFMfXyeWDa',\n",
       " '#Mars2020 arm in the testbedpic.twitter.com/iQ7idvnSi2',\n",
       " 'InSight sol 84 (2019-02-20) low -95.1ºC (-139.2ºF) high -13.2ºC (8.3ºF)\\nwinds from the SW at 4.1 m/s (9.3 mph) gusting to 10.8 m/s (24.2 mph)pic.twitter.com/WlR4gr8gpC',\n",
       " 'InSight sol 83 (2019-02-19) low -95.0ºC (-139.0ºF) high -11.7ºC (11.0ºF)\\nwinds from the SW at 4.1 m/s (9.2 mph) gusting to 10.5 m/s (23.6 mph)\\npressure at 7.20 hPa',\n",
       " 'InSight sol 82 (2019-02-18) low -94.8ºC (-138.6ºF) high -12.3ºC (9.8ºF)\\nwinds from the SW at 4.1 m/s (9.3 mph) gusting to 11.3 m/s (25.2 mph)\\npressure at 7.20 hPa',\n",
       " 'InSight sol 81 (2019-02-17), high -17/2F, low -95/-138F, pressure at 7.23hPa, winds from the WNW at 12 mph gusting to 37.8 mph\\n\\nWelcome to the Mars Weather team @NASAInSight!\\nhttps://mars.nasa.gov/insight/weather/\\xa0…pic.twitter.com/SH12FvcMfv',\n",
       " 'InSight sol 80 (2019-02-16), high -16/3F, low -95/-139F, pressure at 7.23hPa, winds from the WNW at 10.7 mph gusting to 32.3 mph',\n",
       " 'InSight sol 79 (2019-02-15), high -13/8F, low -95/-138F, pressure at 7.21hPa, winds from the WNW at 9.9 mph gusting to 26.2 mph',\n",
       " 'InSight sol 78 (2019-02-14), high -15/4F, low -95/-138F, pressure at 7.22hPa, winds from the WNW at 10.5 mph gusting to 36.4 mph',\n",
       " 'InSight sol 77 (2019-02-13), high -13C/10F, low -94C/-136F, pressure at 7.21 hPa, winds from the WNW at 9 mph gusting to 26.6 mph',\n",
       " '#Opportunity the robot achieved so much because of #Opportunity the team.  People like @PlanetaryKeri, @doug_ellison, @marsroverdriver, @tanyaofmars,  @marssciencegrad, @cirquelar, @bellutta, @Dr_ThomasZ and so many more. Read more at #WRALhttps://www.wral.com/my-battery-is-low-and-it-s-getting-dark-end-of-opportunity-mission-a-loss-for-team/18197530/\\xa0…',\n",
       " 'Sol 2319 (2019-02-13), high -17C/1F, low -72C/-97F, pressure at 8.12 hPa, daylight 06:46-18:52pic.twitter.com/anlHR95BMs',\n",
       " 'Sol 2318 (2019-02-12), high -17C/1F, low -73C/-99F, pressure at 8.11 hPa, daylight 06:46-18:52',\n",
       " 'Sol 2317 (2019-02-11), high -16C/3F, low -73C/-99F, pressure at 8.12 hPa, daylight 06:46-18:52pic.twitter.com/D15lfEs6RN',\n",
       " 'Sol 2316 (2019-02-10), high -14C/6F, low -72C/-97F, pressure at 8.14 hPa, daylight 06:47-18:52',\n",
       " 'While the Sun has set on #Opportunity, the MER program lives on in mountains of data scientists will be making new discoveries from for decades.\\n\\nWe asked 90 Sols and 1km, she gave us 5110 Sols and 45km. So long Oppy, and thanks for all the data. \\n\\nMER-B EOMpic.twitter.com/33obWOXbNx']"
      ]
     },
     "execution_count": 18,
     "metadata": {},
     "output_type": "execute_result"
    }
   ],
   "source": [
    "mars_weather_t"
   ]
  },
  {
   "cell_type": "code",
   "execution_count": null,
   "metadata": {},
   "outputs": [],
   "source": []
  }
 ],
 "metadata": {
  "kernelspec": {
   "display_name": "Python 3",
   "language": "python",
   "name": "python3"
  },
  "language_info": {
   "codemirror_mode": {
    "name": "ipython",
    "version": 3
   },
   "file_extension": ".py",
   "mimetype": "text/x-python",
   "name": "python",
   "nbconvert_exporter": "python",
   "pygments_lexer": "ipython3",
   "version": "3.6.6"
  }
 },
 "nbformat": 4,
 "nbformat_minor": 2
}
